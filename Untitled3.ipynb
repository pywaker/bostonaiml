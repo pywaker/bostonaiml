{
 "cells": [
  {
   "cell_type": "code",
   "execution_count": 1,
   "id": "ed3fa110",
   "metadata": {},
   "outputs": [],
   "source": [
    "import numpy as np\n",
    "import pandas as pd\n",
    "import matplotlib.pyplot as plt\n",
    "import seaborn as sns"
   ]
  },
  {
   "cell_type": "code",
   "execution_count": 2,
   "id": "9bc227f6",
   "metadata": {},
   "outputs": [],
   "source": [
    "from sklearn.model_selection import train_test_split"
   ]
  },
  {
   "cell_type": "code",
   "execution_count": 3,
   "id": "37a0dd2c",
   "metadata": {},
   "outputs": [],
   "source": [
    "df = pd.read_csv(\"zoo.data\")"
   ]
  },
  {
   "cell_type": "code",
   "execution_count": 4,
   "id": "d5173878",
   "metadata": {
    "scrolled": true
   },
   "outputs": [
    {
     "data": {
      "text/html": [
       "<div>\n",
       "<style scoped>\n",
       "    .dataframe tbody tr th:only-of-type {\n",
       "        vertical-align: middle;\n",
       "    }\n",
       "\n",
       "    .dataframe tbody tr th {\n",
       "        vertical-align: top;\n",
       "    }\n",
       "\n",
       "    .dataframe thead th {\n",
       "        text-align: right;\n",
       "    }\n",
       "</style>\n",
       "<table border=\"1\" class=\"dataframe\">\n",
       "  <thead>\n",
       "    <tr style=\"text-align: right;\">\n",
       "      <th></th>\n",
       "      <th>aardvark</th>\n",
       "      <th>1</th>\n",
       "      <th>0</th>\n",
       "      <th>0.1</th>\n",
       "      <th>1.1</th>\n",
       "      <th>0.2</th>\n",
       "      <th>0.3</th>\n",
       "      <th>1.2</th>\n",
       "      <th>1.3</th>\n",
       "      <th>1.4</th>\n",
       "      <th>1.5</th>\n",
       "      <th>0.4</th>\n",
       "      <th>0.5</th>\n",
       "      <th>4</th>\n",
       "      <th>0.6</th>\n",
       "      <th>0.7</th>\n",
       "      <th>1.6</th>\n",
       "      <th>1.7</th>\n",
       "    </tr>\n",
       "  </thead>\n",
       "  <tbody>\n",
       "    <tr>\n",
       "      <th>0</th>\n",
       "      <td>antelope</td>\n",
       "      <td>1</td>\n",
       "      <td>0</td>\n",
       "      <td>0</td>\n",
       "      <td>1</td>\n",
       "      <td>0</td>\n",
       "      <td>0</td>\n",
       "      <td>0</td>\n",
       "      <td>1</td>\n",
       "      <td>1</td>\n",
       "      <td>1</td>\n",
       "      <td>0</td>\n",
       "      <td>0</td>\n",
       "      <td>4</td>\n",
       "      <td>1</td>\n",
       "      <td>0</td>\n",
       "      <td>1</td>\n",
       "      <td>1</td>\n",
       "    </tr>\n",
       "    <tr>\n",
       "      <th>1</th>\n",
       "      <td>bass</td>\n",
       "      <td>0</td>\n",
       "      <td>0</td>\n",
       "      <td>1</td>\n",
       "      <td>0</td>\n",
       "      <td>0</td>\n",
       "      <td>1</td>\n",
       "      <td>1</td>\n",
       "      <td>1</td>\n",
       "      <td>1</td>\n",
       "      <td>0</td>\n",
       "      <td>0</td>\n",
       "      <td>1</td>\n",
       "      <td>0</td>\n",
       "      <td>1</td>\n",
       "      <td>0</td>\n",
       "      <td>0</td>\n",
       "      <td>4</td>\n",
       "    </tr>\n",
       "    <tr>\n",
       "      <th>2</th>\n",
       "      <td>bear</td>\n",
       "      <td>1</td>\n",
       "      <td>0</td>\n",
       "      <td>0</td>\n",
       "      <td>1</td>\n",
       "      <td>0</td>\n",
       "      <td>0</td>\n",
       "      <td>1</td>\n",
       "      <td>1</td>\n",
       "      <td>1</td>\n",
       "      <td>1</td>\n",
       "      <td>0</td>\n",
       "      <td>0</td>\n",
       "      <td>4</td>\n",
       "      <td>0</td>\n",
       "      <td>0</td>\n",
       "      <td>1</td>\n",
       "      <td>1</td>\n",
       "    </tr>\n",
       "    <tr>\n",
       "      <th>3</th>\n",
       "      <td>boar</td>\n",
       "      <td>1</td>\n",
       "      <td>0</td>\n",
       "      <td>0</td>\n",
       "      <td>1</td>\n",
       "      <td>0</td>\n",
       "      <td>0</td>\n",
       "      <td>1</td>\n",
       "      <td>1</td>\n",
       "      <td>1</td>\n",
       "      <td>1</td>\n",
       "      <td>0</td>\n",
       "      <td>0</td>\n",
       "      <td>4</td>\n",
       "      <td>1</td>\n",
       "      <td>0</td>\n",
       "      <td>1</td>\n",
       "      <td>1</td>\n",
       "    </tr>\n",
       "    <tr>\n",
       "      <th>4</th>\n",
       "      <td>buffalo</td>\n",
       "      <td>1</td>\n",
       "      <td>0</td>\n",
       "      <td>0</td>\n",
       "      <td>1</td>\n",
       "      <td>0</td>\n",
       "      <td>0</td>\n",
       "      <td>0</td>\n",
       "      <td>1</td>\n",
       "      <td>1</td>\n",
       "      <td>1</td>\n",
       "      <td>0</td>\n",
       "      <td>0</td>\n",
       "      <td>4</td>\n",
       "      <td>1</td>\n",
       "      <td>0</td>\n",
       "      <td>1</td>\n",
       "      <td>1</td>\n",
       "    </tr>\n",
       "  </tbody>\n",
       "</table>\n",
       "</div>"
      ],
      "text/plain": [
       "   aardvark  1  0  0.1  1.1  0.2  0.3  1.2  1.3  1.4  1.5  0.4  0.5  4  0.6  \\\n",
       "0  antelope  1  0    0    1    0    0    0    1    1    1    0    0  4    1   \n",
       "1      bass  0  0    1    0    0    1    1    1    1    0    0    1  0    1   \n",
       "2      bear  1  0    0    1    0    0    1    1    1    1    0    0  4    0   \n",
       "3      boar  1  0    0    1    0    0    1    1    1    1    0    0  4    1   \n",
       "4   buffalo  1  0    0    1    0    0    0    1    1    1    0    0  4    1   \n",
       "\n",
       "   0.7  1.6  1.7  \n",
       "0    0    1    1  \n",
       "1    0    0    4  \n",
       "2    0    1    1  \n",
       "3    0    1    1  \n",
       "4    0    1    1  "
      ]
     },
     "execution_count": 4,
     "metadata": {},
     "output_type": "execute_result"
    }
   ],
   "source": [
    "df.head()"
   ]
  },
  {
   "cell_type": "code",
   "execution_count": 11,
   "id": "69c85764",
   "metadata": {},
   "outputs": [],
   "source": [
    "names = [\n",
    "  \"animal\",\n",
    "  \"hair\",\n",
    "  \"feathers\",\n",
    "  \"eggs\",\n",
    "  \"milk\",\n",
    "  \"airborne\",\n",
    "  \"aquatic\",\n",
    "  \"predator\",\n",
    "  \"toothed\",\n",
    "  \"backbone\",\n",
    "  \"breathes\",\n",
    "  \"venomous\",\n",
    "  \"fins\",\n",
    "  \"legs\",\n",
    "  \"tail\",\n",
    "  \"domestic\",\n",
    "  \"catsize\",\n",
    "  \"type\"\n",
    "]"
   ]
  },
  {
   "cell_type": "markdown",
   "id": "037be517",
   "metadata": {},
   "source": [
    "http://192.168.88.200:8000/names.json"
   ]
  },
  {
   "cell_type": "code",
   "execution_count": 12,
   "id": "cf63e8cd",
   "metadata": {},
   "outputs": [],
   "source": [
    "df = pd.read_csv(\"zoo.data\", names=names)"
   ]
  },
  {
   "cell_type": "code",
   "execution_count": 15,
   "id": "82ae99da",
   "metadata": {
    "scrolled": true
   },
   "outputs": [
    {
     "data": {
      "text/html": [
       "<div>\n",
       "<style scoped>\n",
       "    .dataframe tbody tr th:only-of-type {\n",
       "        vertical-align: middle;\n",
       "    }\n",
       "\n",
       "    .dataframe tbody tr th {\n",
       "        vertical-align: top;\n",
       "    }\n",
       "\n",
       "    .dataframe thead th {\n",
       "        text-align: right;\n",
       "    }\n",
       "</style>\n",
       "<table border=\"1\" class=\"dataframe\">\n",
       "  <thead>\n",
       "    <tr style=\"text-align: right;\">\n",
       "      <th></th>\n",
       "      <th>animal</th>\n",
       "      <th>hair</th>\n",
       "      <th>feathers</th>\n",
       "      <th>eggs</th>\n",
       "      <th>milk</th>\n",
       "      <th>airborne</th>\n",
       "      <th>aquatic</th>\n",
       "      <th>predator</th>\n",
       "      <th>toothed</th>\n",
       "      <th>backbone</th>\n",
       "      <th>breathes</th>\n",
       "      <th>venomous</th>\n",
       "      <th>fins</th>\n",
       "      <th>legs</th>\n",
       "      <th>tail</th>\n",
       "      <th>domestic</th>\n",
       "      <th>catsize</th>\n",
       "      <th>type</th>\n",
       "    </tr>\n",
       "  </thead>\n",
       "  <tbody>\n",
       "    <tr>\n",
       "      <th>0</th>\n",
       "      <td>aardvark</td>\n",
       "      <td>1</td>\n",
       "      <td>0</td>\n",
       "      <td>0</td>\n",
       "      <td>1</td>\n",
       "      <td>0</td>\n",
       "      <td>0</td>\n",
       "      <td>1</td>\n",
       "      <td>1</td>\n",
       "      <td>1</td>\n",
       "      <td>1</td>\n",
       "      <td>0</td>\n",
       "      <td>0</td>\n",
       "      <td>4</td>\n",
       "      <td>0</td>\n",
       "      <td>0</td>\n",
       "      <td>1</td>\n",
       "      <td>1</td>\n",
       "    </tr>\n",
       "    <tr>\n",
       "      <th>1</th>\n",
       "      <td>antelope</td>\n",
       "      <td>1</td>\n",
       "      <td>0</td>\n",
       "      <td>0</td>\n",
       "      <td>1</td>\n",
       "      <td>0</td>\n",
       "      <td>0</td>\n",
       "      <td>0</td>\n",
       "      <td>1</td>\n",
       "      <td>1</td>\n",
       "      <td>1</td>\n",
       "      <td>0</td>\n",
       "      <td>0</td>\n",
       "      <td>4</td>\n",
       "      <td>1</td>\n",
       "      <td>0</td>\n",
       "      <td>1</td>\n",
       "      <td>1</td>\n",
       "    </tr>\n",
       "    <tr>\n",
       "      <th>2</th>\n",
       "      <td>bass</td>\n",
       "      <td>0</td>\n",
       "      <td>0</td>\n",
       "      <td>1</td>\n",
       "      <td>0</td>\n",
       "      <td>0</td>\n",
       "      <td>1</td>\n",
       "      <td>1</td>\n",
       "      <td>1</td>\n",
       "      <td>1</td>\n",
       "      <td>0</td>\n",
       "      <td>0</td>\n",
       "      <td>1</td>\n",
       "      <td>0</td>\n",
       "      <td>1</td>\n",
       "      <td>0</td>\n",
       "      <td>0</td>\n",
       "      <td>4</td>\n",
       "    </tr>\n",
       "    <tr>\n",
       "      <th>3</th>\n",
       "      <td>bear</td>\n",
       "      <td>1</td>\n",
       "      <td>0</td>\n",
       "      <td>0</td>\n",
       "      <td>1</td>\n",
       "      <td>0</td>\n",
       "      <td>0</td>\n",
       "      <td>1</td>\n",
       "      <td>1</td>\n",
       "      <td>1</td>\n",
       "      <td>1</td>\n",
       "      <td>0</td>\n",
       "      <td>0</td>\n",
       "      <td>4</td>\n",
       "      <td>0</td>\n",
       "      <td>0</td>\n",
       "      <td>1</td>\n",
       "      <td>1</td>\n",
       "    </tr>\n",
       "    <tr>\n",
       "      <th>4</th>\n",
       "      <td>boar</td>\n",
       "      <td>1</td>\n",
       "      <td>0</td>\n",
       "      <td>0</td>\n",
       "      <td>1</td>\n",
       "      <td>0</td>\n",
       "      <td>0</td>\n",
       "      <td>1</td>\n",
       "      <td>1</td>\n",
       "      <td>1</td>\n",
       "      <td>1</td>\n",
       "      <td>0</td>\n",
       "      <td>0</td>\n",
       "      <td>4</td>\n",
       "      <td>1</td>\n",
       "      <td>0</td>\n",
       "      <td>1</td>\n",
       "      <td>1</td>\n",
       "    </tr>\n",
       "  </tbody>\n",
       "</table>\n",
       "</div>"
      ],
      "text/plain": [
       "     animal  hair  feathers  eggs  milk  airborne  aquatic  predator  toothed  \\\n",
       "0  aardvark     1         0     0     1         0        0         1        1   \n",
       "1  antelope     1         0     0     1         0        0         0        1   \n",
       "2      bass     0         0     1     0         0        1         1        1   \n",
       "3      bear     1         0     0     1         0        0         1        1   \n",
       "4      boar     1         0     0     1         0        0         1        1   \n",
       "\n",
       "   backbone  breathes  venomous  fins  legs  tail  domestic  catsize  type  \n",
       "0         1         1         0     0     4     0         0        1     1  \n",
       "1         1         1         0     0     4     1         0        1     1  \n",
       "2         1         0         0     1     0     1         0        0     4  \n",
       "3         1         1         0     0     4     0         0        1     1  \n",
       "4         1         1         0     0     4     1         0        1     1  "
      ]
     },
     "execution_count": 15,
     "metadata": {},
     "output_type": "execute_result"
    }
   ],
   "source": [
    "df.head()"
   ]
  },
  {
   "cell_type": "code",
   "execution_count": 24,
   "id": "a60f16b6",
   "metadata": {},
   "outputs": [],
   "source": [
    "X = np.array(df.loc[:, \"hair\": \"catsize\"])"
   ]
  },
  {
   "cell_type": "code",
   "execution_count": 25,
   "id": "a2e15e11",
   "metadata": {},
   "outputs": [
    {
     "data": {
      "text/plain": [
       "array([[1, 0, 0, 1, 0, 0, 1, 1, 1, 1, 0, 0, 4, 0, 0, 1],\n",
       "       [1, 0, 0, 1, 0, 0, 0, 1, 1, 1, 0, 0, 4, 1, 0, 1],\n",
       "       [0, 0, 1, 0, 0, 1, 1, 1, 1, 0, 0, 1, 0, 1, 0, 0],\n",
       "       [1, 0, 0, 1, 0, 0, 1, 1, 1, 1, 0, 0, 4, 0, 0, 1],\n",
       "       [1, 0, 0, 1, 0, 0, 1, 1, 1, 1, 0, 0, 4, 1, 0, 1]])"
      ]
     },
     "execution_count": 25,
     "metadata": {},
     "output_type": "execute_result"
    }
   ],
   "source": [
    "X[:5]"
   ]
  },
  {
   "cell_type": "code",
   "execution_count": 26,
   "id": "57782047",
   "metadata": {},
   "outputs": [],
   "source": [
    "y = np.array(df.loc[:, \"type\"])"
   ]
  },
  {
   "cell_type": "code",
   "execution_count": 27,
   "id": "286f1676",
   "metadata": {},
   "outputs": [
    {
     "data": {
      "text/plain": [
       "array([1, 1, 4, 1, 1])"
      ]
     },
     "execution_count": 27,
     "metadata": {},
     "output_type": "execute_result"
    }
   ],
   "source": [
    "y[:5]"
   ]
  },
  {
   "cell_type": "code",
   "execution_count": 28,
   "id": "91b6eb90",
   "metadata": {},
   "outputs": [],
   "source": [
    "X_train, X_test , y_train, y_test = train_test_split(\n",
    "    X, y\n",
    ")"
   ]
  },
  {
   "cell_type": "code",
   "execution_count": 29,
   "id": "e77b6212",
   "metadata": {},
   "outputs": [],
   "source": [
    "from sklearn.neighbors import KNeighborsClassifier"
   ]
  },
  {
   "cell_type": "code",
   "execution_count": 30,
   "id": "fda7d28c",
   "metadata": {},
   "outputs": [],
   "source": [
    "clr = KNeighborsClassifier()"
   ]
  },
  {
   "cell_type": "code",
   "execution_count": 32,
   "id": "c2c2259e",
   "metadata": {},
   "outputs": [
    {
     "data": {
      "text/plain": [
       "KNeighborsClassifier()"
      ]
     },
     "execution_count": 32,
     "metadata": {},
     "output_type": "execute_result"
    }
   ],
   "source": [
    "clr.fit(X_train, y_train)"
   ]
  },
  {
   "cell_type": "code",
   "execution_count": 33,
   "id": "8ef1d2ba",
   "metadata": {},
   "outputs": [],
   "source": [
    "pred = clr.predict(X_test)"
   ]
  },
  {
   "cell_type": "code",
   "execution_count": 34,
   "id": "fc8c9095",
   "metadata": {},
   "outputs": [
    {
     "data": {
      "text/plain": [
       "array([1, 6, 1, 1, 6, 1, 4, 2, 4, 2, 2, 1, 1, 6, 2, 2, 1, 4, 1, 6, 1, 4,\n",
       "       4, 7, 1, 2])"
      ]
     },
     "execution_count": 34,
     "metadata": {},
     "output_type": "execute_result"
    }
   ],
   "source": [
    "pred"
   ]
  },
  {
   "cell_type": "code",
   "execution_count": 35,
   "id": "155a71fa",
   "metadata": {},
   "outputs": [
    {
     "data": {
      "text/plain": [
       "array([1, 6, 1, 1, 6, 1, 3, 2, 4, 2, 2, 1, 1, 6, 2, 2, 1, 3, 1, 7, 1, 4,\n",
       "       4, 7, 1, 2])"
      ]
     },
     "execution_count": 35,
     "metadata": {},
     "output_type": "execute_result"
    }
   ],
   "source": [
    "y_test"
   ]
  },
  {
   "cell_type": "code",
   "execution_count": 36,
   "id": "420552c9",
   "metadata": {},
   "outputs": [
    {
     "data": {
      "text/plain": [
       "0.8846153846153846"
      ]
     },
     "execution_count": 36,
     "metadata": {},
     "output_type": "execute_result"
    }
   ],
   "source": [
    "clr.score(X_test, y_test)"
   ]
  },
  {
   "cell_type": "code",
   "execution_count": 37,
   "id": "9b7bf2dd",
   "metadata": {},
   "outputs": [],
   "source": [
    "X_train, X_test , y_train, y_test = train_test_split(\n",
    "    np.array(df.loc[:, \"feathers\": \"predator\"]), y\n",
    ")"
   ]
  },
  {
   "cell_type": "code",
   "execution_count": 39,
   "id": "02d5d668",
   "metadata": {},
   "outputs": [
    {
     "data": {
      "text/plain": [
       "KNeighborsClassifier()"
      ]
     },
     "execution_count": 39,
     "metadata": {},
     "output_type": "execute_result"
    }
   ],
   "source": [
    "clr2 = KNeighborsClassifier()\n",
    "clr2.fit(X_train, y_train)"
   ]
  },
  {
   "cell_type": "code",
   "execution_count": 41,
   "id": "3bcfa727",
   "metadata": {},
   "outputs": [
    {
     "data": {
      "text/plain": [
       "0.8076923076923077"
      ]
     },
     "execution_count": 41,
     "metadata": {},
     "output_type": "execute_result"
    }
   ],
   "source": [
    "clr2.score(X_test, y_test)"
   ]
  },
  {
   "cell_type": "code",
   "execution_count": 42,
   "id": "02fa79fc",
   "metadata": {},
   "outputs": [
    {
     "data": {
      "text/plain": [
       "array([1, 3, 2, 2, 1, 4, 6, 4, 2, 4, 1, 1, 1, 1, 4, 4, 4, 4, 2, 1, 1, 1,\n",
       "       1, 6, 2, 2])"
      ]
     },
     "execution_count": 42,
     "metadata": {},
     "output_type": "execute_result"
    }
   ],
   "source": [
    "pred = clr2.predict(X_test)\n",
    "pred"
   ]
  },
  {
   "cell_type": "code",
   "execution_count": 43,
   "id": "be034a16",
   "metadata": {},
   "outputs": [
    {
     "data": {
      "text/plain": [
       "array([1, 3, 2, 2, 1, 7, 6, 4, 2, 4, 7, 1, 1, 1, 4, 5, 4, 1, 2, 1, 1, 1,\n",
       "       1, 7, 2, 2])"
      ]
     },
     "execution_count": 43,
     "metadata": {},
     "output_type": "execute_result"
    }
   ],
   "source": [
    "y_test"
   ]
  },
  {
   "cell_type": "code",
   "execution_count": 44,
   "id": "c0ddc570",
   "metadata": {},
   "outputs": [
    {
     "data": {
      "text/plain": [
       "5"
      ]
     },
     "execution_count": 44,
     "metadata": {},
     "output_type": "execute_result"
    }
   ],
   "source": [
    "clr.n_neighbors"
   ]
  },
  {
   "cell_type": "code",
   "execution_count": 46,
   "id": "54f7856f",
   "metadata": {},
   "outputs": [],
   "source": [
    "clr3 = KNeighborsClassifier(n_neighbors=9)"
   ]
  },
  {
   "cell_type": "code",
   "execution_count": 47,
   "id": "675d49d8",
   "metadata": {},
   "outputs": [],
   "source": [
    "X_train, X_test , y_train, y_test = train_test_split(\n",
    "    X, y\n",
    ")"
   ]
  },
  {
   "cell_type": "code",
   "execution_count": 48,
   "id": "8dbb0118",
   "metadata": {},
   "outputs": [
    {
     "data": {
      "text/plain": [
       "KNeighborsClassifier(n_neighbors=9)"
      ]
     },
     "execution_count": 48,
     "metadata": {},
     "output_type": "execute_result"
    }
   ],
   "source": [
    "clr3.fit(X_train, y_train)"
   ]
  },
  {
   "cell_type": "code",
   "execution_count": 49,
   "id": "cf5a9da6",
   "metadata": {},
   "outputs": [
    {
     "data": {
      "text/plain": [
       "0.8846153846153846"
      ]
     },
     "execution_count": 49,
     "metadata": {},
     "output_type": "execute_result"
    }
   ],
   "source": [
    "clr3.score(X_test, y_test)"
   ]
  },
  {
   "cell_type": "code",
   "execution_count": 50,
   "id": "965b265e",
   "metadata": {},
   "outputs": [
    {
     "data": {
      "text/plain": [
       "9"
      ]
     },
     "execution_count": 50,
     "metadata": {},
     "output_type": "execute_result"
    }
   ],
   "source": [
    "clr3.n_neighbors"
   ]
  },
  {
   "cell_type": "code",
   "execution_count": 51,
   "id": "89d57cf4",
   "metadata": {},
   "outputs": [],
   "source": [
    "from sklearn import svm"
   ]
  },
  {
   "cell_type": "code",
   "execution_count": 52,
   "id": "6705736c",
   "metadata": {},
   "outputs": [],
   "source": [
    "svm_clr = svm.SVC()"
   ]
  },
  {
   "cell_type": "code",
   "execution_count": 54,
   "id": "8b1a2129",
   "metadata": {},
   "outputs": [
    {
     "data": {
      "text/plain": [
       "SVC()"
      ]
     },
     "execution_count": 54,
     "metadata": {},
     "output_type": "execute_result"
    }
   ],
   "source": [
    "svm_clr.fit(X_train, y_train)"
   ]
  },
  {
   "cell_type": "code",
   "execution_count": 55,
   "id": "ec5237c9",
   "metadata": {},
   "outputs": [
    {
     "data": {
      "text/plain": [
       "0.9230769230769231"
      ]
     },
     "execution_count": 55,
     "metadata": {},
     "output_type": "execute_result"
    }
   ],
   "source": [
    "svm_clr.score(X_test, y_test)"
   ]
  },
  {
   "cell_type": "code",
   "execution_count": 57,
   "id": "fb03f7dc",
   "metadata": {},
   "outputs": [
    {
     "data": {
      "text/plain": [
       "0.0"
      ]
     },
     "execution_count": 57,
     "metadata": {},
     "output_type": "execute_result"
    }
   ],
   "source": [
    "svm_clr.coef0"
   ]
  },
  {
   "cell_type": "code",
   "execution_count": 58,
   "id": "570a02c3",
   "metadata": {},
   "outputs": [
    {
     "data": {
      "text/plain": [
       "(75, 16)"
      ]
     },
     "execution_count": 58,
     "metadata": {},
     "output_type": "execute_result"
    }
   ],
   "source": [
    "svm_clr.shape_fit_"
   ]
  },
  {
   "cell_type": "code",
   "execution_count": 59,
   "id": "51ce97d7",
   "metadata": {},
   "outputs": [
    {
     "data": {
      "text/plain": [
       "array([ 0,  9, 11, 16, 22, 28, 35, 39, 44, 56, 58, 60, 63, 65, 68,  5, 17,\n",
       "       29, 37, 38, 57, 71, 23, 26, 70,  7, 12, 14, 18, 19, 34, 41, 62, 69,\n",
       "       10, 24, 42, 74, 30, 47, 49, 72, 73, 15, 21, 27, 46, 48, 51, 54, 59,\n",
       "       66], dtype=int32)"
      ]
     },
     "execution_count": 59,
     "metadata": {},
     "output_type": "execute_result"
    }
   ],
   "source": [
    "svm_clr.support_"
   ]
  },
  {
   "cell_type": "code",
   "execution_count": 60,
   "id": "f06a1533",
   "metadata": {},
   "outputs": [
    {
     "data": {
      "text/plain": [
       "array([[1., 0., 1., 1., 0., 1., 1., 0., 1., 1., 0., 0., 4., 1., 0., 1.],\n",
       "       [1., 0., 0., 1., 0., 0., 1., 1., 1., 1., 0., 0., 4., 0., 0., 1.],\n",
       "       [1., 0., 0., 1., 0., 0., 1., 1., 1., 1., 0., 0., 2., 0., 1., 1.],\n",
       "       [0., 0., 0., 1., 0., 1., 1., 1., 1., 1., 0., 1., 0., 1., 0., 1.],\n",
       "       [1., 0., 0., 1., 1., 0., 0., 1., 1., 1., 0., 0., 2., 1., 0., 0.],\n",
       "       [1., 0., 0., 1., 0., 0., 0., 1., 1., 1., 0., 0., 4., 0., 1., 0.],\n",
       "       [1., 0., 0., 1., 0., 1., 1., 1., 1., 1., 0., 1., 0., 0., 0., 1.],\n",
       "       [0., 0., 0., 1., 0., 1., 1., 1., 1., 1., 0., 1., 0., 1., 0., 1.],\n",
       "       [1., 0., 0., 1., 0., 0., 0., 1., 1., 1., 0., 0., 2., 1., 0., 1.],\n",
       "       [1., 0., 0., 1., 0., 0., 0., 1., 1., 1., 0., 0., 4., 1., 1., 1.],\n",
       "       [1., 0., 0., 1., 0., 0., 1., 1., 1., 1., 0., 0., 4., 1., 0., 0.],\n",
       "       [1., 0., 0., 1., 0., 0., 0., 1., 1., 1., 0., 0., 2., 1., 0., 0.],\n",
       "       [1., 0., 0., 1., 1., 0., 0., 1., 1., 1., 0., 0., 2., 1., 0., 0.],\n",
       "       [1., 0., 0., 1., 0., 0., 0., 1., 1., 1., 0., 0., 4., 1., 0., 0.],\n",
       "       [1., 0., 0., 1., 0., 0., 0., 1., 1., 1., 0., 0., 4., 1., 0., 1.],\n",
       "       [0., 1., 1., 0., 1., 1., 1., 0., 1., 1., 0., 0., 2., 1., 0., 0.],\n",
       "       [0., 1., 1., 0., 0., 0., 1., 0., 1., 1., 0., 0., 2., 1., 0., 0.],\n",
       "       [0., 1., 1., 0., 1., 1., 1., 0., 1., 1., 0., 0., 2., 1., 0., 0.],\n",
       "       [0., 1., 1., 0., 0., 0., 0., 0., 1., 1., 0., 0., 2., 1., 0., 1.],\n",
       "       [0., 1., 1., 0., 1., 1., 0., 0., 1., 1., 0., 0., 2., 1., 0., 0.],\n",
       "       [0., 1., 1., 0., 0., 0., 1., 0., 1., 1., 0., 0., 2., 1., 0., 1.],\n",
       "       [0., 1., 1., 0., 1., 0., 0., 0., 1., 1., 0., 0., 2., 1., 1., 0.],\n",
       "       [0., 0., 1., 0., 0., 0., 1., 1., 1., 1., 0., 0., 0., 1., 0., 0.],\n",
       "       [0., 0., 1., 0., 0., 0., 1., 1., 1., 1., 0., 0., 4., 1., 0., 0.],\n",
       "       [0., 0., 1., 0., 0., 0., 0., 0., 1., 1., 0., 0., 4., 1., 0., 1.],\n",
       "       [0., 0., 1., 0., 0., 1., 1., 1., 1., 0., 0., 1., 0., 1., 0., 1.],\n",
       "       [0., 0., 1., 0., 0., 1., 1., 1., 1., 0., 0., 1., 0., 1., 0., 1.],\n",
       "       [0., 0., 1., 0., 0., 1., 1., 1., 1., 0., 0., 1., 0., 1., 0., 0.],\n",
       "       [0., 0., 1., 0., 0., 1., 0., 1., 1., 0., 0., 1., 0., 1., 0., 0.],\n",
       "       [0., 0., 1., 0., 0., 1., 1., 1., 1., 0., 0., 1., 0., 1., 0., 0.],\n",
       "       [0., 0., 1., 0., 0., 1., 1., 1., 1., 0., 0., 1., 0., 1., 0., 0.],\n",
       "       [0., 0., 1., 0., 0., 1., 1., 1., 1., 0., 1., 1., 0., 1., 0., 1.],\n",
       "       [0., 0., 1., 0., 0., 1., 1., 1., 1., 0., 0., 1., 0., 1., 0., 1.],\n",
       "       [0., 0., 1., 0., 0., 1., 0., 1., 1., 0., 0., 1., 0., 1., 1., 0.],\n",
       "       [0., 0., 1., 0., 0., 1., 1., 1., 1., 1., 0., 0., 4., 0., 0., 0.],\n",
       "       [0., 0., 1., 0., 0., 1., 0., 1., 1., 1., 0., 0., 4., 0., 0., 0.],\n",
       "       [0., 0., 1., 0., 0., 1., 1., 1., 1., 1., 1., 0., 4., 0., 0., 0.],\n",
       "       [0., 0., 1., 0., 0., 1., 1., 1., 1., 1., 0., 0., 4., 1., 0., 0.],\n",
       "       [0., 0., 1., 0., 1., 0., 1., 0., 0., 1., 0., 0., 6., 0., 0., 0.],\n",
       "       [0., 0., 1., 0., 0., 0., 0., 0., 0., 1., 0., 0., 6., 0., 0., 0.],\n",
       "       [1., 0., 1., 0., 1., 0., 0., 0., 0., 1., 0., 0., 6., 0., 0., 0.],\n",
       "       [0., 0., 1., 0., 1., 0., 0., 0., 0., 1., 0., 0., 6., 0., 0., 0.],\n",
       "       [0., 0., 1., 0., 0., 0., 0., 0., 0., 1., 0., 0., 6., 0., 0., 0.],\n",
       "       [0., 0., 1., 0., 0., 1., 1., 0., 0., 0., 1., 0., 0., 0., 0., 0.],\n",
       "       [0., 0., 0., 0., 0., 0., 1., 0., 0., 1., 1., 0., 8., 1., 0., 0.],\n",
       "       [0., 0., 1., 0., 0., 1., 1., 0., 0., 0., 0., 0., 6., 0., 0., 0.],\n",
       "       [0., 0., 1., 0., 0., 1., 1., 0., 0., 0., 0., 0., 5., 0., 0., 0.],\n",
       "       [0., 0., 1., 0., 0., 1., 1., 0., 0., 0., 0., 0., 6., 0., 0., 0.],\n",
       "       [0., 0., 1., 0., 0., 1., 1., 0., 0., 0., 0., 0., 8., 0., 0., 1.],\n",
       "       [0., 0., 1., 0., 0., 0., 0., 0., 0., 1., 0., 0., 0., 0., 0., 0.],\n",
       "       [0., 0., 1., 0., 0., 0., 0., 0., 0., 1., 0., 0., 0., 0., 0., 0.],\n",
       "       [0., 0., 1., 0., 0., 0., 1., 0., 0., 0., 0., 0., 0., 0., 0., 0.]])"
      ]
     },
     "execution_count": 60,
     "metadata": {},
     "output_type": "execute_result"
    }
   ],
   "source": [
    "svm_clr.support_vectors_"
   ]
  },
  {
   "cell_type": "code",
   "execution_count": 61,
   "id": "9555dcd1",
   "metadata": {},
   "outputs": [
    {
     "data": {
      "text/plain": [
       "array([[1, 0, 0, 1, 0, 0, 1, 1, 1, 1, 0, 0, 4, 0, 0, 1],\n",
       "       [1, 0, 0, 1, 0, 0, 0, 1, 1, 1, 0, 0, 4, 1, 0, 1],\n",
       "       [0, 0, 1, 0, 0, 1, 1, 1, 1, 0, 0, 1, 0, 1, 0, 0],\n",
       "       [1, 0, 0, 1, 0, 0, 1, 1, 1, 1, 0, 0, 4, 0, 0, 1],\n",
       "       [1, 0, 0, 1, 0, 0, 1, 1, 1, 1, 0, 0, 4, 1, 0, 1],\n",
       "       [1, 0, 0, 1, 0, 0, 0, 1, 1, 1, 0, 0, 4, 1, 0, 1],\n",
       "       [1, 0, 0, 1, 0, 0, 0, 1, 1, 1, 0, 0, 4, 1, 1, 1],\n",
       "       [0, 0, 1, 0, 0, 1, 0, 1, 1, 0, 0, 1, 0, 1, 1, 0],\n",
       "       [0, 0, 1, 0, 0, 1, 1, 1, 1, 0, 0, 1, 0, 1, 0, 0],\n",
       "       [1, 0, 0, 1, 0, 0, 0, 1, 1, 1, 0, 0, 4, 0, 1, 0]])"
      ]
     },
     "execution_count": 61,
     "metadata": {},
     "output_type": "execute_result"
    }
   ],
   "source": [
    "X[:10]"
   ]
  },
  {
   "cell_type": "code",
   "execution_count": 62,
   "id": "41b5395f",
   "metadata": {},
   "outputs": [],
   "source": [
    "from sklearn.cluster import KMeans"
   ]
  },
  {
   "cell_type": "code",
   "execution_count": 64,
   "id": "2ae4a159",
   "metadata": {},
   "outputs": [],
   "source": [
    "clt = KMeans(n_clusters=7, random_state=1)"
   ]
  },
  {
   "cell_type": "code",
   "execution_count": 71,
   "id": "a1644e7d",
   "metadata": {},
   "outputs": [
    {
     "data": {
      "text/plain": [
       "KMeans(n_clusters=7, random_state=1)"
      ]
     },
     "execution_count": 71,
     "metadata": {},
     "output_type": "execute_result"
    }
   ],
   "source": [
    "clt.fit(X)"
   ]
  },
  {
   "cell_type": "code",
   "execution_count": 72,
   "id": "df1e4cd6",
   "metadata": {},
   "outputs": [
    {
     "data": {
      "text/plain": [
       "array([1, 1, 4, 1, 1, 1, 1, 4, 4, 1, 1, 0, 4, 5, 6, 2, 0, 1, 4, 4, 0, 0,\n",
       "       1, 0, 2, 6, 6, 3, 1, 3, 2, 1, 3, 0, 4, 1, 1, 0, 4, 2, 2, 0, 2, 0,\n",
       "       1, 1, 2, 1, 1, 1, 1, 2, 6, 2, 1, 1, 0, 0, 0, 0, 4, 4, 5, 1, 1, 1,\n",
       "       4, 1, 1, 1, 1, 0, 2, 4, 4, 3, 4, 5, 0, 0, 5, 5, 4, 0, 3, 2, 4, 0,\n",
       "       2, 6, 6, 6, 4, 3, 1, 0, 3, 2, 1, 5, 0], dtype=int32)"
      ]
     },
     "execution_count": 72,
     "metadata": {},
     "output_type": "execute_result"
    }
   ],
   "source": [
    "clt.predict(X)"
   ]
  },
  {
   "cell_type": "code",
   "execution_count": 73,
   "id": "4dc51bff",
   "metadata": {},
   "outputs": [
    {
     "data": {
      "text/plain": [
       "array([1, 1, 4, 1, 1, 1, 1, 4, 4, 1, 1, 2, 4, 7, 7, 7, 2, 1, 4, 1, 2, 2,\n",
       "       1, 2, 6, 5, 5, 1, 1, 1, 6, 1, 1, 2, 4, 1, 1, 2, 4, 6, 6, 2, 6, 2,\n",
       "       1, 1, 7, 1, 1, 1, 1, 6, 5, 7, 1, 1, 2, 2, 2, 2, 4, 4, 3, 1, 1, 1,\n",
       "       1, 1, 1, 1, 1, 2, 7, 4, 1, 1, 3, 7, 2, 2, 3, 7, 4, 2, 1, 7, 4, 2,\n",
       "       6, 5, 3, 3, 4, 1, 1, 2, 1, 6, 1, 7, 2])"
      ]
     },
     "execution_count": 73,
     "metadata": {},
     "output_type": "execute_result"
    }
   ],
   "source": [
    "y"
   ]
  },
  {
   "cell_type": "code",
   "execution_count": 70,
   "id": "5df9e044",
   "metadata": {},
   "outputs": [
    {
     "data": {
      "text/plain": [
       "-5.02"
      ]
     },
     "execution_count": 70,
     "metadata": {},
     "output_type": "execute_result"
    }
   ],
   "source": [
    "clt.score(X_test[:2])"
   ]
  },
  {
   "cell_type": "code",
   "execution_count": 74,
   "id": "ac326111",
   "metadata": {},
   "outputs": [
    {
     "data": {
      "text/plain": [
       "array([1, 1, 4, 1, 1, 1, 1, 4, 4, 1, 1, 0, 4, 5, 6, 2, 0, 1, 4, 4, 0, 0,\n",
       "       1, 0, 2, 6, 6, 3, 1, 3, 2, 1, 3, 0, 4, 1, 1, 0, 4, 2, 2, 0, 2, 0,\n",
       "       1, 1, 2, 1, 1, 1, 1, 2, 6, 2, 1, 1, 0, 0, 0, 0, 4, 4, 5, 1, 1, 1,\n",
       "       4, 1, 1, 1, 1, 0, 2, 4, 4, 3, 4, 5, 0, 0, 5, 5, 4, 0, 3, 2, 4, 0,\n",
       "       2, 6, 6, 6, 4, 3, 1, 0, 3, 2, 1, 5, 0], dtype=int32)"
      ]
     },
     "execution_count": 74,
     "metadata": {},
     "output_type": "execute_result"
    }
   ],
   "source": [
    "clt.labels_"
   ]
  },
  {
   "cell_type": "code",
   "execution_count": 75,
   "id": "133360c4",
   "metadata": {},
   "outputs": [
    {
     "data": {
      "text/plain": [
       "array([[-1.66533454e-16,  1.00000000e+00,  1.00000000e+00,\n",
       "        -1.66533454e-16,  8.00000000e-01,  3.00000000e-01,\n",
       "         4.50000000e-01,  1.11022302e-16,  1.00000000e+00,\n",
       "         1.00000000e+00, -1.38777878e-17, -2.77555756e-17,\n",
       "         2.00000000e+00,  1.00000000e+00,  1.50000000e-01,\n",
       "         3.00000000e-01],\n",
       "       [ 1.00000000e+00, -8.32667268e-17,  3.22580645e-02,\n",
       "         1.00000000e+00, -1.66533454e-16,  6.45161290e-02,\n",
       "         5.48387097e-01,  9.67741935e-01,  1.00000000e+00,\n",
       "         1.00000000e+00, -2.77555756e-17, -5.55111512e-17,\n",
       "         4.00000000e+00,  9.03225806e-01,  2.25806452e-01,\n",
       "         8.06451613e-01],\n",
       "       [ 3.07692308e-01,  0.00000000e+00,  9.23076923e-01,\n",
       "        -5.55111512e-17,  4.61538462e-01,  3.07692308e-01,\n",
       "         4.61538462e-01,  1.11022302e-16, -1.11022302e-16,\n",
       "         6.92307692e-01,  2.30769231e-01,  2.77555756e-17,\n",
       "         6.23076923e+00,  7.69230769e-02,  7.69230769e-02,\n",
       "         7.69230769e-02],\n",
       "       [ 1.00000000e+00,  2.77555756e-17,  0.00000000e+00,\n",
       "         1.00000000e+00,  2.85714286e-01,  1.42857143e-01,\n",
       "         2.85714286e-01,  1.00000000e+00,  1.00000000e+00,\n",
       "         1.00000000e+00,  0.00000000e+00,  1.42857143e-01,\n",
       "         2.00000000e+00,  7.14285714e-01,  1.42857143e-01,\n",
       "         5.71428571e-01],\n",
       "       [ 5.88235294e-02, -2.77555756e-17,  7.64705882e-01,\n",
       "         1.76470588e-01, -1.11022302e-16,  1.00000000e+00,\n",
       "         7.64705882e-01,  1.00000000e+00,  1.00000000e+00,\n",
       "         1.76470588e-01,  1.17647059e-01,  9.41176471e-01,\n",
       "         0.00000000e+00,  9.41176471e-01,  5.88235294e-02,\n",
       "         4.11764706e-01],\n",
       "       [ 0.00000000e+00,  2.77555756e-17,  1.00000000e+00,\n",
       "         5.55111512e-17,  0.00000000e+00,  1.66666667e-01,\n",
       "         6.66666667e-01,  3.33333333e-01,  3.33333333e-01,\n",
       "         6.66666667e-01,  3.33333333e-01,  2.77555756e-17,\n",
       "         0.00000000e+00,  3.33333333e-01,  0.00000000e+00,\n",
       "         0.00000000e+00],\n",
       "       [ 0.00000000e+00,  2.77555756e-17,  1.00000000e+00,\n",
       "         5.55111512e-17,  0.00000000e+00,  7.14285714e-01,\n",
       "         7.14285714e-01,  7.14285714e-01,  8.57142857e-01,\n",
       "         8.57142857e-01,  1.42857143e-01,  2.77555756e-17,\n",
       "         4.00000000e+00,  4.28571429e-01,  0.00000000e+00,\n",
       "         1.42857143e-01]])"
      ]
     },
     "execution_count": 75,
     "metadata": {},
     "output_type": "execute_result"
    }
   ],
   "source": [
    "clt.cluster_centers_"
   ]
  },
  {
   "cell_type": "code",
   "execution_count": 76,
   "id": "10389cc5",
   "metadata": {},
   "outputs": [
    {
     "data": {
      "text/plain": [
       "1"
      ]
     },
     "execution_count": 76,
     "metadata": {},
     "output_type": "execute_result"
    }
   ],
   "source": [
    "clt.labels_[0]"
   ]
  },
  {
   "cell_type": "code",
   "execution_count": 77,
   "id": "266c9089",
   "metadata": {},
   "outputs": [
    {
     "data": {
      "text/plain": [
       "1"
      ]
     },
     "execution_count": 77,
     "metadata": {},
     "output_type": "execute_result"
    }
   ],
   "source": [
    "y[clt.labels_[0]]"
   ]
  },
  {
   "cell_type": "code",
   "execution_count": null,
   "id": "17d6dd9c",
   "metadata": {},
   "outputs": [],
   "source": []
  }
 ],
 "metadata": {
  "kernelspec": {
   "display_name": "Python 3 (ipykernel)",
   "language": "python",
   "name": "python3"
  },
  "language_info": {
   "codemirror_mode": {
    "name": "ipython",
    "version": 3
   },
   "file_extension": ".py",
   "mimetype": "text/x-python",
   "name": "python",
   "nbconvert_exporter": "python",
   "pygments_lexer": "ipython3",
   "version": "3.9.9"
  }
 },
 "nbformat": 4,
 "nbformat_minor": 5
}
